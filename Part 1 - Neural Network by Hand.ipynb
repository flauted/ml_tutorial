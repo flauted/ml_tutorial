{
 "cells": [
  {
   "cell_type": "markdown",
   "metadata": {},
   "source": [
    "# Neural Network By Hand"
   ]
  },
  {
   "cell_type": "markdown",
   "metadata": {},
   "source": [
    "This notebook illustrates how to train a very basic neural network \"by hand.\" This will use the python package ``numpy`` for matrix/array computing. It has all the basic functionality that MATLAB has.\n",
    "\n",
    "This notebook is going to go through the calculus of training a network and everything will be done \"by hand\" in ``numpy``. There are libraries designed for making neural networks that will handle the calculus for us (``scikit-learn`` has lots of basic machine learning algorithms implemented to where you only need 3ish lines of code to train them; ``pytorch`` and ``tensorflow`` require you to know how to put the algorithms together - meaning, they're more flexible - while still handling all the calculus for you). The later notebooks will not include any calculus.\n",
    "\n",
    "The goal of the Boston House Prices dataset is to ingest 13 features about a house and the neighborhood the house is in, and to predict how much the house will cost. Since the price is a real number that can take on (almost) any value, this is a **regression** problem. We'll discuss the other main type of prediction, **classification**, later."
   ]
  },
  {
   "cell_type": "code",
   "execution_count": 1,
   "metadata": {},
   "outputs": [],
   "source": [
    "import numpy as np  # numpy for matrix/array computing"
   ]
  },
  {
   "cell_type": "code",
   "execution_count": 2,
   "metadata": {},
   "outputs": [],
   "source": [
    "from sklearn.datasets import load_boston  # we're going to use scikit-learn ONLY for the Boston dataset."
   ]
  },
  {
   "cell_type": "code",
   "execution_count": 3,
   "metadata": {},
   "outputs": [
    {
     "name": "stdout",
     "output_type": "stream",
     "text": [
      ".. _boston_dataset:\n",
      "\n",
      "Boston house prices dataset\n",
      "---------------------------\n",
      "\n",
      "**Data Set Characteristics:**  \n",
      "\n",
      "    :Number of Instances: 506 \n",
      "\n",
      "    :Number of Attributes: 13 numeric/categorical predictive. Median Value (attribute 14) is usually the target.\n",
      "\n",
      "    :Attribute Information (in order):\n",
      "        - CRIM     per capita crime rate by town\n",
      "        - ZN       proportion of residential land zoned for lots over 25,000 sq.ft.\n",
      "        - INDUS    proportion of non-retail business acres per town\n",
      "        - CHAS     Charles River dummy variable (= 1 if tract bounds river; 0 otherwise)\n",
      "        - NOX      nitric oxides concentration (parts per 10 million)\n",
      "        - RM       average number of rooms per dwelling\n",
      "        - AGE      proportion of owner-occupied units built prior to 1940\n",
      "        - DIS      weighted distances to five Boston employment centres\n",
      "        - RAD      index of accessibility to radial highways\n",
      "        - TAX      full-value property-tax rate per $10,000\n",
      "        - PTRATIO  pupil-teacher ratio by town\n",
      "        - B        1000(Bk - 0.63)^2 where Bk is the proportion of blacks by town\n",
      "        - LSTAT    % lower status of the population\n",
      "        - MEDV     Median value of owner-occupied homes in $1000's\n",
      "\n",
      "    :Missing Attribute Values: None\n",
      "\n",
      "    :Creator: Harrison, D. and Rubinfeld, D.L.\n",
      "\n",
      "This is a copy of UCI ML housing dataset.\n",
      "https://archive.ics.uci.edu/ml/machine-learning-databases/housing/\n",
      "\n",
      "\n",
      "This dataset was taken from the StatLib library which is maintained at Carnegie Mellon University.\n",
      "\n",
      "The Boston house-price data of Harrison, D. and Rubinfeld, D.L. 'Hedonic\n",
      "prices and the demand for clean air', J. Environ. Economics & Management,\n",
      "vol.5, 81-102, 1978.   Used in Belsley, Kuh & Welsch, 'Regression diagnostics\n",
      "...', Wiley, 1980.   N.B. Various transformations are used in the table on\n",
      "pages 244-261 of the latter.\n",
      "\n",
      "The Boston house-price data has been used in many machine learning papers that address regression\n",
      "problems.   \n",
      "     \n",
      ".. topic:: References\n",
      "\n",
      "   - Belsley, Kuh & Welsch, 'Regression diagnostics: Identifying Influential Data and Sources of Collinearity', Wiley, 1980. 244-261.\n",
      "   - Quinlan,R. (1993). Combining Instance-Based and Model-Based Learning. In Proceedings on the Tenth International Conference of Machine Learning, 236-243, University of Massachusetts, Amherst. Morgan Kaufmann.\n",
      "\n"
     ]
    }
   ],
   "source": [
    "dataset = load_boston()\n",
    "print(dataset[\"DESCR\"])"
   ]
  },
  {
   "cell_type": "markdown",
   "metadata": {},
   "source": [
    "I'm going to use the notation ``(R, C)`` for the shape of arrays. That indicates a 2-dimensional array (i.e., a matrix) with ``R`` rows and ``C`` columns. I'll use ``(D,)`` for a 1-dimensional array (i.e., a vector) with ``D`` elements. The notation extends to higher-dimensional arrays, which we'll see later. The fancy lingo for N-dimensional arrays is **tensors**. "
   ]
  },
  {
   "cell_type": "code",
   "execution_count": 4,
   "metadata": {},
   "outputs": [
    {
     "name": "stdout",
     "output_type": "stream",
     "text": [
      "dict_keys(['data', 'target', 'feature_names', 'DESCR', 'filename'])\n",
      "Data shape: (506, 13)\n",
      "Features: ['CRIM' 'ZN' 'INDUS' 'CHAS' 'NOX' 'RM' 'AGE' 'DIS' 'RAD' 'TAX' 'PTRATIO'\n",
      " 'B' 'LSTAT']\n",
      "Target shape: (506,)\n"
     ]
    }
   ],
   "source": [
    "# Let's explore the format the data is in\n",
    "print(dataset.keys())\n",
    "data = dataset[\"data\"]  # np.ndarray - shape: (examples, features)\n",
    "target = dataset[\"target\"]  # np.ndarray - shape: (examples,)\n",
    "print(\"Data shape:\", data.shape)\n",
    "print(\"Features:\", dataset[\"feature_names\"])\n",
    "print(\"Target shape:\", target.shape)"
   ]
  },
  {
   "cell_type": "markdown",
   "metadata": {},
   "source": [
    "## Linear Model"
   ]
  },
  {
   "cell_type": "markdown",
   "metadata": {},
   "source": [
    "Now let's begin talking about machine learning.\n",
    "\n",
    "Let's see how well we can predict the price of houses based on the features in the Boston house dataset.\n",
    "For a specific house, let's call the features $x_0, x_1, \\dots, x_{12}$ and let's call the price $y$. (Sometimes, we'll use a dataset index, but we're omitting that until it's necessary.) We're going to try to learn how to predict $y$ as a weighted average of the features $x_i$. In other words,\n",
    "$$ \\hat{y} = w_{0} x_0 + w_1 x_1 + \\dots w_{12} + x_{12} $$\n",
    "where $\\hat{y}$ is our estimate for $y$ and the weights $w_i$ are twelve real numbers that we're going to find numerically.\n",
    "\n",
    "Two notational conveniences: First, we can write $\\hat{y}$ as a function of $x_i$ and $w_i$:\n",
    "$$ \\hat{y}(x_0, \\dots, x_{12}, w_0, \\dots, x_{12}) = w_0 x_0 + \\dots + w_{12} x_{12}.$$\n",
    "\n",
    "Second, the formula $\\hat{y} = \\sum_k w_k x_k$ is instantly recognizable as the formula for dot product, so we can actually simply write\n",
    "$$ \\hat{y} = \\vec{w} \\cdot \\vec{x}. $$\n",
    "\n",
    "Recall from linear algebra that we can express the dot product as a matrix multiplication. More on that later."
   ]
  },
  {
   "cell_type": "code",
   "execution_count": 5,
   "metadata": {},
   "outputs": [],
   "source": [
    "X = data  # X matrix is all the data\n",
    "Y = target  # Y matrix is all the truth"
   ]
  },
  {
   "cell_type": "markdown",
   "metadata": {},
   "source": [
    "How are we going to find the weights $w_i$? Well, more basic algorithms like least-squares work here, but let's introduce a concept called **gradient descent** that's much more general."
   ]
  },
  {
   "cell_type": "markdown",
   "metadata": {},
   "source": [
    "The idea is very similar to least-squares regression. We're going to define an **error function** $E(y, \\hat{y})$, also sometimes called the **cost function** or the **loss function**, and we're going to try to minimize the sum (or average) of the error across the whole dataset, i.e. for all $y$. So far so good."
   ]
  },
  {
   "cell_type": "markdown",
   "metadata": {},
   "source": [
    "Naive approach: Let's choose random numbers for $w_i$'s. Then, for each $i$, let's try to make it a little bigger. If the error goes down, good. Keep making that weight bigger. If the error goes up, oops. Make that weight smaller."
   ]
  },
  {
   "cell_type": "markdown",
   "metadata": {},
   "source": [
    "Issues: That would take forever. And, we don't really know how much to make the weight bigger or smaller."
   ]
  },
  {
   "cell_type": "markdown",
   "metadata": {},
   "source": [
    "Idea: But wait a minute! What if I could tell you how much the error changes as each $w_i$ changes without having to change $w_i$? What if you could just find $E(y, \\hat{y})$ and automatically know which way to change $w_i$?\n",
    "\n",
    "This is sounding like a derivative..."
   ]
  },
  {
   "cell_type": "markdown",
   "metadata": {},
   "source": [
    "As long as $E(y, \\hat{y}(x_0, \\dots, x_{12}, w_0, \\dots, w_{12}))$ has partial derivatives with respect to the weights $w_i$, we're good. We can tell immediately which way to change each weight when presented with $\\vec{x}$ and $y$."
   ]
  },
  {
   "cell_type": "code",
   "execution_count": 6,
   "metadata": {},
   "outputs": [
    {
     "data": {
      "image/png": "[encoded data removed]",
      "text/plain": [
       "<Figure size 432x288 with 1 Axes>"
      ]
     },
     "metadata": {
      "needs_background": "light"
     },
     "output_type": "display_data"
    }
   ],
   "source": [
    "# this code is for the plot below, skip reading this and look at the plot\n",
    "\n",
    "import matplotlib.pyplot as plt  # plotting library for python\n",
    "\n",
    "w_i = np.linspace(0, 2)\n",
    "E = (w_i - 1) ** 2 + 1\n",
    "plt.plot(w_i, E)\n",
    "plt.xlabel(\"w_i\")\n",
    "plt.ylabel(\"Error as a function of w_i\")\n",
    "plt.title(\"Idea behind 1 Step of Gradient Descent\")\n",
    "\n",
    "current_w_i = 0.25  # a\n",
    "current_E = (current_w_i - 1) ** 2 + 1\n",
    "\n",
    "plt.scatter(current_w_i, current_E)\n",
    "plt.text(0.3, 1.55, \"Suppose w_i here gives this E\")\n",
    "\n",
    "plt.scatter([1], [1])  # plot the minimum\n",
    "plt.text(1, 1.05, \"Error minimized.\")\n",
    "\n",
    "# tangent line of E about the point w_i=a:\n",
    "# L(w_i) = f(a) + dE(a) \\times (w_i - a)\n",
    "w_i_local = np.linspace(0.1, 0.4)\n",
    "slope = 2 * (current_w_i - 1)\n",
    "line = current_E + slope * (w_i_local - current_w_i)\n",
    "plt.plot(w_i_local, line)\n",
    "\n",
    "_ = plt.text(0.4, 1.4, \"Increment w_i along line\")"
   ]
  },
  {
   "cell_type": "code",
   "execution_count": 7,
   "metadata": {},
   "outputs": [
    {
     "name": "stdout",
     "output_type": "stream",
     "text": [
      "[527.29820234]\n"
     ]
    }
   ],
   "source": [
    "# Let's get our initial random weights.\n",
    "w = np.random.randn(13, 1)  # (features, 1) weights arranged as a column vector\n",
    "\n",
    "def y_hat(x, w):\n",
    "    # x is a (1, 13) row vector\n",
    "    # w is a (13, 1) column vector\n",
    "    # we can find the weighted sum w0 x0 + ... + w12 x12 by matrix multiplying the vectors\n",
    "    return x @ w  # \"@\" is shorthand for matrix multiply in python. The result should be a 1x1 matrix\n",
    "\n",
    "estimate = y_hat(X[0, :], w)\n",
    "print(estimate)  # perfect, we got a number!"
   ]
  },
  {
   "cell_type": "markdown",
   "metadata": {},
   "source": [
    "Our error function is going to be the squared error function:\n",
    "$$ E(y, \\hat{y}) = (y - \\hat{y})^2 $$\n",
    "and when we sum the error across all $y$, we have (adding the dataset index $n$):\n",
    "$$ \\sum_{n=1}^N E(y_n, \\hat{y}_n) = \\sum_{n=1}^N (y_n - \\hat{y}_n)^2 = \\text{SSE}.$$\n",
    "In other words, across the whole dataset, we are minimizing the sum-squared error.\n",
    "\n",
    "Let's give that a name: The total error function \n",
    "$$ E_T(Y, \\hat{Y}) = \\text{SSE} = \\sum_{n=1}^N (y_n - \\hat{y}_n)^2. $$\n"
   ]
  },
  {
   "cell_type": "markdown",
   "metadata": {},
   "source": [
    "Let's do the calculus to find $\\frac{\\partial E_T}{\\partial w_i}$:\n",
    "\n",
    "Leibniz chain rule:\n",
    "$$ \\frac{\\partial E_T}{\\partial w_i} = \\frac{\\partial E_T}{\\partial \\hat{y}_k} \\frac{\\partial \\hat{y}_k}{\\partial w_i}. $$\n",
    "\n",
    "$$ \\frac{\\partial E_T}{\\partial \\hat{y}_k} = \\frac{\\partial}{\\partial \\hat{y}_n} ((y_0 - \\hat{y}_0)^2 + \\dots (y_k - \\hat{y}_k)^2 + \\dots + (y_N - \\hat{y}_N)^2) = \\frac{\\partial}{\\partial \\hat{y}_k} (y_k - \\hat{y}_k)^2 = 2 (y_k - \\hat{y}_k) \\times (-1) = 2 (\\hat{y}_k - y_k).$$\n",
    "$$ \\frac{\\partial \\hat{y}_k}{\\partial w_i} = x_{k_i}.$$\n",
    "So,\n",
    "$$ \\frac{\\partial E_T}{\\partial w_i} = 2 (\\hat{y}_k - y_k) \\times x_{k_i}.$$\n",
    "\n",
    "Note that our derivative implicitly depends on the dataset index $k$.\n",
    "We don't actually want that.\n",
    "We'll actually estimate $\\frac{\\partial E_T}{\\partial w_i}$ by averaging it across the entire dataset.\n",
    "But we will not write that detail in the math for notational convenience.\n",
    "\n",
    "The gradient of $E_T$ is given by:\n",
    "$$ \\nabla E_T = [\\frac{\\partial E_T}{\\partial w_0}, \\dots, \\frac{\\partial E_T}{\\partial w_{12}}].$$"
   ]
  },
  {
   "cell_type": "markdown",
   "metadata": {},
   "source": [
    "How are we going to update the weights?\n",
    "Well, let's try just changing them by how much they change the error. If a weight hurts the error a lot if we increase it ($\\frac{\\partial E_T}{\\partial w_i}$ is a large positive number), let's reduce $w_i$ quite a bit, etc. We're going to scale that by a factor of $\\eta$, called the **learning rate**.\n",
    "$$ w_i \\leftarrow w_i - \\eta \\frac{\\partial E_T}{\\partial w_i}.$$\n",
    "\n",
    "We can rewrite using linear algebra:\n",
    "$$ \\vec{w} \\leftarrow \\vec{w} - \\eta \\nabla E_T.$$\n",
    "This is the **update rule.**"
   ]
  },
  {
   "cell_type": "code",
   "execution_count": 8,
   "metadata": {},
   "outputs": [
    {
     "name": "stdout",
     "output_type": "stream",
     "text": [
      "Normalizing X...\n",
      "Check minimum variance is far from 0: 0.013401098888632884\n",
      "Normalizing Y...\n",
      "Check minimum variance is far from 0: 84.41955615616556\n"
     ]
    }
   ],
   "source": [
    "# in practice, for technical reasons, it is VERY important to somehow normalize the different features.\n",
    "# There's different approaches:\n",
    "# zero-mean, unit-variance is common\n",
    "#     when we assume the values of each feature are normally distributed across the dataset\n",
    "# rescaling to a range of [-1, 1] is also common, but hurt badly by outliers.\n",
    "#\n",
    "# We're going to do zero-mean, unit variance. We'll take each feature column,\n",
    "# subtract it's mean, and divide by its standard deviation\n",
    "\n",
    "def zero_mean_unit_variance(D):\n",
    "    # D is a data matrix shaped (N_feats, ...)\n",
    "    feat_means = np.mean(D, axis=0)  # (N_feats,)-shaped vector\n",
    "    feat_vars = np.var(D, axis=0)  # (N_feats,)-shaped vector\n",
    "\n",
    "    # variance of 0 means an uninformative/constant feature.\n",
    "    # numerically, it's a problem b/c we can't divide by zero\n",
    "    try:\n",
    "        print(\"Check minimum variance is far from 0:\", min(feat_vars))\n",
    "    except Exception as e:\n",
    "        print(\"Check minimum variance is far from 0:\", feat_vars)\n",
    "\n",
    "\n",
    "    D_normed = (D - feat_means) / np.sqrt(feat_vars)\n",
    "    return D_normed, feat_means, feat_vars\n",
    "\n",
    "# keep means and vars to unnormalize, or to normalize new data the same way your weights are trained for\n",
    "print(\"Normalizing X...\")\n",
    "X_normed, X_means, X_vars = zero_mean_unit_variance(X)\n",
    "print(\"Normalizing Y...\")\n",
    "Y_normed, Y_mean, Y_var = zero_mean_unit_variance(Y)"
   ]
  },
  {
   "cell_type": "markdown",
   "metadata": {},
   "source": [
    "### Our First Neural Network"
   ]
  },
  {
   "cell_type": "code",
   "execution_count": 9,
   "metadata": {},
   "outputs": [
    {
     "name": "stdout",
     "output_type": "stream",
     "text": [
      "Error after 100th update: [[286.47730386]]\n",
      "Error after 200th update: [[203.27167844]]\n",
      "Error after 300th update: [[171.20421651]]\n",
      "Error after 400th update: [[156.06559724]]\n",
      "Error after 500th update: [[147.966751]]\n",
      "Error after 600th update: [[143.1560225]]\n",
      "Error after 700th update: [[140.0352819]]\n",
      "Error after 800th update: [[137.87125248]]\n",
      "Error after 900th update: [[136.30125957]]\n",
      "Error after 1000th update: [[135.12965626]]\n",
      "Error after 1100th update: [[134.24064192]]\n",
      "Error after 1200th update: [[133.55957312]]\n",
      "Error after 1300th update: [[133.03498845]]\n",
      "Error after 1400th update: [[132.62971248]]\n",
      "Error after 1500th update: [[132.31608239]]\n",
      "Error after 1600th update: [[132.07314561]]\n",
      "Error after 1700th update: [[131.88486841]]\n",
      "Error after 1800th update: [[131.73890942]]\n",
      "Error after 1900th update: [[131.62573803]]\n",
      "Error after 2000th update: [[131.53798063]]\n"
     ]
    }
   ],
   "source": [
    "# (features, 1) weights arranged as a column vector, drawn from a standard normal distribution\n",
    "w = np.random.randn(13, 1)\n",
    "\n",
    "lr = .01  # learning rate eta\n",
    "\n",
    "def total_error(w, X_normed, Y_normed):\n",
    "    # keep in mind Y is normalized so this error is meaningless in the absolute sense.\n",
    "    # It's only useful relatively.\n",
    "    error_T = 0\n",
    "    for xk, yk in zip(X_normed, Y_normed):\n",
    "        xk = xk[np.newaxis, :]  # xk (num_feats,) -> (1,num_feats)\n",
    "        y_hat_k = y_hat(xk, w)\n",
    "        error = (y_hat_k - yk)**2\n",
    "        error_T += error\n",
    "    return error_T\n",
    "\n",
    "\n",
    "update_every = 100  # how many epochs do we want before printing some update about the error?\n",
    "\n",
    "\n",
    "N_epochs = 2000  # number of total passes through the data\n",
    "for epoch in range(1, N_epochs+1):\n",
    "    gradient_sum = np.zeros_like(w)\n",
    "    N = X_normed.shape[0]  # dataset size\n",
    "    for xk, yk in zip(X_normed, Y_normed):\n",
    "        # reshape the data to match the networks' expectations\n",
    "        xk = xk[np.newaxis, :]  # xk (num_feats,) -> (1,num_feats)\n",
    "        \n",
    "        # run the network: This is called the \"forward pass\".\n",
    "        y_hat_k = y_hat(xk, w)\n",
    "        \n",
    "        # accumulate the gradients.\n",
    "        grad_E_T_k = 2 * (y_hat_k - yk) * xk.T  # grad_E_T_k (num_feats,1)\n",
    "        gradient_sum += grad_E_T_k\n",
    "\n",
    "    # update the network: This is called the \"backward pass\"\n",
    "    gradient_average = gradient_sum / N\n",
    "    w = w - lr * gradient_average\n",
    "    \n",
    "    if epoch % update_every == 0:\n",
    "        print(f\"Error after {epoch}th update:\", total_error(w, X_normed, Y_normed))"
   ]
  },
  {
   "cell_type": "code",
   "execution_count": 10,
   "metadata": {},
   "outputs": [
    {
     "name": "stdout",
     "output_type": "stream",
     "text": [
      "For house 1, true price is $21.6K\n",
      "We estimated $24.96082905537492K\n",
      "\n",
      "For house 2, true price is $34.7K\n",
      "We estimated $30.553738254477572K\n",
      "\n",
      "For house 3, true price is $33.4K\n",
      "We estimated $28.61396713526304K\n",
      "\n",
      "For house 4, true price is $36.2K\n",
      "We estimated $27.955750295148512K\n",
      "\n",
      "For house 5, true price is $28.7K\n",
      "We estimated $25.221351956742506K\n",
      "\n",
      "For house 6, true price is $22.9K\n",
      "We estimated $22.930951068414963K\n",
      "\n",
      "For house 7, true price is $27.1K\n",
      "We estimated $19.45451737777169K\n",
      "\n",
      "For house 8, true price is $16.5K\n",
      "We estimated $11.438377852391504K\n",
      "\n",
      "For house 9, true price is $18.9K\n",
      "We estimated $18.83090096056732K\n",
      "\n",
      "For house 10, true price is $15.0K\n",
      "We estimated $18.93316695577728K\n",
      "\n"
     ]
    }
   ],
   "source": [
    "for k in range(1, 10+1):\n",
    "    y_hat_k = y_hat(X_normed[k, :].T, w)\n",
    "    y_unnormed_hat_k = np.sqrt(Y_var) * (y_hat_k) + Y_mean\n",
    "    y_k = Y[k]\n",
    "\n",
    "    print(f\"For house {k}, true price is ${y_k}K\")\n",
    "    print(f\"We estimated ${y_unnormed_hat_k[0]}K\")\n",
    "    print()"
   ]
  },
  {
   "cell_type": "markdown",
   "metadata": {},
   "source": [
    "### Best Practices - Splitting the Data & Parallelizing"
   ]
  },
  {
   "cell_type": "markdown",
   "metadata": {},
   "source": [
    "We really want to know how our neural network did on data that it was never trained on, e.g. how well it generalizes. So, we should actually use a training and test split.\n",
    "\n",
    "For technical reasons, sometimes we want a third dataset called a validation dataset. We'll skip that here.\n",
    "This is a clear and concise explanation of the splits: https://towardsdatascience.com/train-validation-and-test-sets-72cb40cba9e7 (3 min)\n",
    "\n",
    "It's also important that we don't include the test set in the dataset normalization, because that's cheating :)"
   ]
  },
  {
   "cell_type": "code",
   "execution_count": 11,
   "metadata": {},
   "outputs": [],
   "source": [
    "import random\n",
    "random.seed(4242)  # set the random seed so this is reproducable"
   ]
  },
  {
   "cell_type": "code",
   "execution_count": 12,
   "metadata": {},
   "outputs": [
    {
     "name": "stdout",
     "output_type": "stream",
     "text": [
      "Check minimum variance is far from 0: 0.012945226004437496\n",
      "Check minimum variance is far from 0: 83.80700974999999\n"
     ]
    }
   ],
   "source": [
    "# shuffle the data in the same way (that way the X and Y arrays are still parallel)\n",
    "data_index_array = list(range(X.shape[0]))\n",
    "random.shuffle(data_index_array)\n",
    "X_shuf = X[data_index_array]\n",
    "Y_shuf = Y[data_index_array]\n",
    "\n",
    "# normally you use about 80% for training and 20% for testing (which is what we're doing here).\n",
    "# There's about 500 houses in the dataset.\n",
    "# We're going to choose a random 400 for training and use the rest for testing.\n",
    "X_train = X[:400]  # since X, Y are shuffled, the first 400 are random.\n",
    "Y_train = Y[:400]\n",
    "\n",
    "X_test = X[400:]\n",
    "Y_test = Y[400:]\n",
    "\n",
    "X_norm_train, X_mean, X_var = zero_mean_unit_variance(X_train)\n",
    "X_norm_test = (X_test - X_mean) / np.sqrt(X_var)\n",
    "Y_norm_train, Y_mean, Y_var = zero_mean_unit_variance(Y_train)\n"
   ]
  },
  {
   "cell_type": "markdown",
   "metadata": {},
   "source": [
    "We can also calculate $\\hat{y}_k$ for more than one $x_k$ at a time. This is called **parallelization** or **batching**."
   ]
  },
  {
   "cell_type": "code",
   "execution_count": 13,
   "metadata": {},
   "outputs": [],
   "source": [
    "def y_hat(X, w):\n",
    "    # X is a data array of shape (N_samples, N_feats)\n",
    "    # w is the weights vector of shape (N_feats, 1)\n",
    "    # Output Y_hat = X @ w  has shape (N_samples, 1) is the prediction for each data sample X\n",
    "    \n",
    "    # Recall we said x @ w is the dot product between x and w.\n",
    "    # Well, matrix multiplication is actually just parallel dot products\n",
    "    return X @ w"
   ]
  },
  {
   "cell_type": "markdown",
   "metadata": {},
   "source": [
    "For this example, the dataset is actually small enough we could actually calculate ``Y_hat`` across the entire dataset. Usually, this isn't the case. So, we'll \"mini-batch.\""
   ]
  },
  {
   "cell_type": "code",
   "execution_count": 14,
   "metadata": {},
   "outputs": [
    {
     "name": "stdout",
     "output_type": "stream",
     "text": [
      "Mean training error (real) after 100th update: $158.29k\n",
      "Mean testing error (real) after 100th update: $201.21k\n",
      "\n",
      "Mean training error (real) after 200th update: $93.15k\n",
      "Mean testing error (real) after 200th update: $96.30k\n",
      "\n",
      "Mean training error (real) after 300th update: $65.89k\n",
      "Mean testing error (real) after 300th update: $68.81k\n",
      "\n",
      "Mean training error (real) after 400th update: $50.55k\n",
      "Mean testing error (real) after 400th update: $57.11k\n",
      "\n",
      "Mean training error (real) after 500th update: $41.13k\n",
      "Mean testing error (real) after 500th update: $50.72k\n",
      "\n",
      "Mean training error (real) after 600th update: $35.07k\n",
      "Mean testing error (real) after 600th update: $46.64k\n",
      "\n",
      "Mean training error (real) after 700th update: $31.06k\n",
      "Mean testing error (real) after 700th update: $43.83k\n",
      "\n",
      "Mean training error (real) after 800th update: $28.36k\n",
      "Mean testing error (real) after 800th update: $41.83k\n",
      "\n",
      "Mean training error (real) after 900th update: $26.52k\n",
      "Mean testing error (real) after 900th update: $40.40k\n",
      "\n",
      "Mean training error (real) after 1000th update: $25.25k\n",
      "Mean testing error (real) after 1000th update: $39.38k\n",
      "\n",
      "Mean training error (real) after 1100th update: $24.37k\n",
      "Mean testing error (real) after 1100th update: $38.66k\n",
      "\n",
      "Mean training error (real) after 1200th update: $23.76k\n",
      "Mean testing error (real) after 1200th update: $38.17k\n",
      "\n"
     ]
    }
   ],
   "source": [
    "# (features, 1) weights arranged as a column vector, drawn from a standard normal distribution\n",
    "w = np.random.randn(13, 1)\n",
    "\n",
    "lr = .005  # learning rate eta\n",
    "batch_size = 100\n",
    "\n",
    "def batchify(X, Y, n):\n",
    "    # this weird function is what's called a generator.\n",
    "    # Don't worry too much about it. Just know that we can write a for-loop\n",
    "    # that iterates over what this function returns.\n",
    "    for i in range(0, len(X), n):\n",
    "        yield X[i:i + n], Y[i:i+n]\n",
    "\n",
    "def total_error(w, X, Y, y_var=None, y_mean=None):\n",
    "    # If y_var and y_mean are provided, we'll go ahead and unnormalize\n",
    "    # to give a real absolute error.\n",
    "    error_T = 0\n",
    "    for X_batch, Y_batch in batchify(X, Y, batch_size):\n",
    "        Y_batch = Y_batch[:, np.newaxis]  # (num_samples, 1)\n",
    "        Y_hat = y_hat(X_batch, w)  # (num_samples, 1)\n",
    "        if y_var is not None:\n",
    "            Y_hat = Y_hat * np.sqrt(y_var) + y_mean\n",
    "        error = (Y_hat - Y_batch)**2  # (num_samples, 1)\n",
    "        error_t = np.sum(error)\n",
    "        error_T += error_t\n",
    "    return error_T\n",
    "\n",
    "\n",
    "update_every = 100\n",
    "\n",
    "\n",
    "N_epochs = 1200  # number of total passes through the data\n",
    "for epoch in range(1, N_epochs+1):\n",
    "    gradient_sum = np.zeros_like(w)\n",
    "    N = X_norm_train.shape[0]  # dataset size\n",
    "    for X_batch, Y_batch in batchify(X_norm_train, Y_norm_train, batch_size):\n",
    "        # X_batch (num_samples,num_feats)\n",
    "        Y_batch = Y_batch[:, np.newaxis]  # expand to (num_samples, 1)\n",
    "        \n",
    "        # forward pass\n",
    "        Y_hat = y_hat(X_batch, w)  # Y_hat (num_samples,1)\n",
    "        \n",
    "        # gradient accumulation\n",
    "        grad_E_T_batch = 2 * (Y_hat - Y_batch) * X_batch  # grad_E_T_k (num_samples, num_feats)\n",
    "        # reduce to (1,num_feats) and flip back to shape of w\n",
    "        gradient_sum += np.sum(grad_E_T_batch, axis=0, keepdims=True).T\n",
    "\n",
    "    # backwards pass\n",
    "    gradient_average = gradient_sum / N\n",
    "    w = w - lr * gradient_average\n",
    "    \n",
    "    if epoch % update_every == 0:\n",
    "        error = total_error(w, X_norm_train, Y_train, y_var=Y_var, y_mean=Y_mean)\n",
    "        mean_error = error / X_train.shape[0]\n",
    "        print(f\"Mean training error (real) after {epoch}th update:\", f\"${mean_error:.2f}k\")\n",
    "        \n",
    "        error = total_error(w, X_norm_test, Y_test, y_var=Y_var, y_mean=Y_mean)\n",
    "        mean_error = error / X_test.shape[0]\n",
    "        print(f\"Mean testing error (real) after {epoch}th update:\", f\"${mean_error:.2f}k\")\n",
    "        \n",
    "        print()"
   ]
  },
  {
   "cell_type": "code",
   "execution_count": 15,
   "metadata": {},
   "outputs": [
    {
     "name": "stdout",
     "output_type": "stream",
     "text": [
      "For house 1, true price is $24.0K\n",
      "We estimated $12.99474267544698K\n",
      "\n",
      "For house 2, true price is $21.6K\n",
      "We estimated $20.060801342612976K\n",
      "\n",
      "For house 3, true price is $34.7K\n",
      "We estimated $21.088554112016904K\n",
      "\n",
      "For house 4, true price is $33.4K\n",
      "We estimated $12.85435516448003K\n",
      "\n",
      "For house 5, true price is $36.2K\n",
      "We estimated $7.1710974627689446K\n",
      "\n",
      "For house 6, true price is $28.7K\n",
      "We estimated $5.9086641290990265K\n",
      "\n",
      "For house 7, true price is $22.9K\n",
      "We estimated $4.904890362166736K\n",
      "\n",
      "For house 8, true price is $27.1K\n",
      "We estimated $20.121206910800716K\n",
      "\n",
      "For house 9, true price is $16.5K\n",
      "We estimated $13.547181082849228K\n",
      "\n",
      "For house 10, true price is $18.9K\n",
      "We estimated $22.13049980774101K\n",
      "\n"
     ]
    }
   ],
   "source": [
    "samples = range(10)\n",
    "y_hat_k = y_hat(X_norm_test[samples, :], w)\n",
    "y_unnormed_hat_k = np.sqrt(Y_var) * (y_hat_k) + Y_mean\n",
    "\n",
    "for k in samples:\n",
    "    print(f\"For house {k+1}, true price is ${Y[k]}K\")\n",
    "    print(f\"We estimated ${y_unnormed_hat_k[k][0]}K\")\n",
    "    print()"
   ]
  },
  {
   "cell_type": "markdown",
   "metadata": {},
   "source": [
    "## How Can We Do Better?"
   ]
  },
  {
   "cell_type": "markdown",
   "metadata": {},
   "source": [
    "Honestly, our results still aren't very good. How can we make our network better?\n",
    "\n",
    "One simple idea is adding a **bias**, or turning our network into an *affine transformation* instead of a linear one.\n",
    "For example,\n",
    "$$ \\hat{y} = w_{0} x_0 + w_1 x_1 + \\dots w_{12} + x_{12} + b$$\n",
    "where $b$ is a real number.\n",
    "\n",
    "Since we're normalizing $Y$ such that its distribution has zero mean, in theory this won't have much of an effect.\n",
    "But, in practice, it often helps.\n",
    "\n",
    "Note that we'll be optimizing $b$, so we'll need the derivative of error with respect to $b$:\n",
    "$$ \\frac{\\partial \\hat{y}_k}{\\partial b} = 1, $$\n",
    "$$ \\frac{\\partial E_T}{\\partial b} = \\frac{\\partial E_T}{\\partial \\hat{y}_k} \\frac{\\partial \\hat{y}_k}{\\partial b}  = \\frac{\\partial E_T}{\\partial \\hat{y}_k} \\times 1 = 2 (\\hat{y}_k - y_k). $$\n",
    "\n",
    "Since the network is getting a little more complicated, let's move to an object-oriented approach."
   ]
  },
  {
   "cell_type": "code",
   "execution_count": 16,
   "metadata": {},
   "outputs": [],
   "source": [
    "class Net(object):\n",
    "    def __init__(self, num_features):\n",
    "        self.W = np.random.randn(num_features, 1)\n",
    "        self.b = np.zeros((1, 1))\n",
    "        \n",
    "    def forward(self, x):\n",
    "        # compute the prediction, i.e. perform the \"forward pass\".\n",
    "        # x is shaped (num_examples, num_features)\n",
    "        # y_hat is shaped (num_examples, 1)\n",
    "        y_hat = x @ self.W + self.b\n",
    "        return y_hat\n",
    "    \n",
    "    def __call__(self, x):\n",
    "        # ``__call__`` is a \"magic method\" in Python. If you define a ``__call__``,\n",
    "        # your object becomes \"callable\" - you can use it like a function.\n",
    "        #\n",
    "        # net = Net()\n",
    "        # y = net(x)\n",
    "        #\n",
    "        # This might seem pointless here. We're doing it because it makes our class\n",
    "        # have similar syntax to what PyTorch uses.\n",
    "        return self.forward(x)\n"
   ]
  },
  {
   "cell_type": "markdown",
   "metadata": {},
   "source": [
    "Also, we're going to introduce **minibatch stochastic gradient descent.** Whereas before, we were accumulating the gradients across many minibatches, this time we will speed up learning by updating the network after each minibatch."
   ]
  },
  {
   "cell_type": "code",
   "execution_count": 17,
   "metadata": {},
   "outputs": [
    {
     "name": "stdout",
     "output_type": "stream",
     "text": [
      "Mean training error (real) after 200th update: $178.68k\n",
      "Mean testing error (real) after 200th update: $275.12k\n",
      "\n",
      "Mean training error (real) after 400th update: $122.83k\n",
      "Mean testing error (real) after 400th update: $204.08k\n",
      "\n",
      "Mean training error (real) after 600th update: $93.46k\n",
      "Mean testing error (real) after 600th update: $156.29k\n",
      "\n",
      "Mean training error (real) after 800th update: $75.02k\n",
      "Mean testing error (real) after 800th update: $119.42k\n",
      "\n",
      "Mean training error (real) after 1000th update: $62.58k\n",
      "Mean testing error (real) after 1000th update: $92.24k\n",
      "\n",
      "Mean training error (real) after 1200th update: $53.75k\n",
      "Mean testing error (real) after 1200th update: $72.69k\n",
      "\n",
      "Mean training error (real) after 1400th update: $47.26k\n",
      "Mean testing error (real) after 1400th update: $58.88k\n",
      "\n",
      "Mean training error (real) after 1600th update: $42.36k\n",
      "Mean testing error (real) after 1600th update: $49.26k\n",
      "\n",
      "Mean training error (real) after 1800th update: $38.59k\n",
      "Mean testing error (real) after 1800th update: $42.67k\n",
      "\n",
      "Mean training error (real) after 2000th update: $35.62k\n",
      "Mean testing error (real) after 2000th update: $38.24k\n",
      "\n",
      "Mean training error (real) after 2200th update: $33.27k\n",
      "Mean testing error (real) after 2200th update: $35.34k\n",
      "\n",
      "Mean training error (real) after 2400th update: $31.39k\n",
      "Mean testing error (real) after 2400th update: $33.51k\n",
      "\n",
      "Mean training error (real) after 2600th update: $29.86k\n",
      "Mean testing error (real) after 2600th update: $32.43k\n",
      "\n",
      "Mean training error (real) after 2800th update: $28.61k\n",
      "Mean testing error (real) after 2800th update: $31.87k\n",
      "\n",
      "Mean training error (real) after 3000th update: $27.59k\n",
      "Mean testing error (real) after 3000th update: $31.67k\n",
      "\n",
      "Mean training error (real) after 3200th update: $26.74k\n",
      "Mean testing error (real) after 3200th update: $31.71k\n",
      "\n",
      "Mean training error (real) after 3400th update: $26.04k\n",
      "Mean testing error (real) after 3400th update: $31.91k\n",
      "\n",
      "Mean training error (real) after 3600th update: $25.46k\n",
      "Mean testing error (real) after 3600th update: $32.20k\n",
      "\n",
      "Mean training error (real) after 3800th update: $24.97k\n",
      "Mean testing error (real) after 3800th update: $32.56k\n",
      "\n",
      "Mean training error (real) after 4000th update: $24.56k\n",
      "Mean testing error (real) after 4000th update: $32.96k\n",
      "\n",
      "Mean training error (real) after 4200th update: $24.22k\n",
      "Mean testing error (real) after 4200th update: $33.36k\n",
      "\n",
      "Mean training error (real) after 4400th update: $23.93k\n",
      "Mean testing error (real) after 4400th update: $33.76k\n",
      "\n",
      "Mean training error (real) after 4600th update: $23.68k\n",
      "Mean testing error (real) after 4600th update: $34.15k\n",
      "\n",
      "Mean training error (real) after 4800th update: $23.48k\n",
      "Mean testing error (real) after 4800th update: $34.52k\n",
      "\n",
      "Mean training error (real) after 5000th update: $23.30k\n",
      "Mean testing error (real) after 5000th update: $34.87k\n",
      "\n"
     ]
    }
   ],
   "source": [
    "net = Net(13)  # instantiate our class\n",
    "\n",
    "lr = .001  # learning rate eta  - since we're updating per batch, we'll want to lower this.\n",
    "# that's because each update could be somehow more biased or overall less complete\n",
    "batch_size = 100\n",
    "\n",
    "def batchify(X, Y, n):\n",
    "    for i in range(0, len(X), n):\n",
    "        yield X[i:i + n], Y[i:i+n]\n",
    "\n",
    "def total_error(net, X, Y, y_var=None, y_mean=None):\n",
    "    error_T = 0\n",
    "    for X_batch, Y_batch in batchify(X, Y, batch_size):\n",
    "        Y_batch = Y_batch[:, np.newaxis]  # (num_samples, 1)\n",
    "        Y_hat = net(X_batch)  # (num_samples, 1)\n",
    "        if y_var is not None:\n",
    "            Y_hat = Y_hat * np.sqrt(y_var) + y_mean\n",
    "        error = (Y_hat - Y_batch)**2  # (num_samples, 1)\n",
    "        error_t = np.sum(error)\n",
    "        error_T += error_t\n",
    "    return error_T\n",
    "\n",
    "\n",
    "update_every = 200\n",
    "\n",
    "batch_ctr = 0\n",
    "\n",
    "N_epochs = 1250  # number of total passes through the data\n",
    "for epoch in range(1, N_epochs+1):\n",
    "    # N = X_norm_train.shape[0]  # dataset size\n",
    "    for X_batch, Y_batch in batchify(X_norm_train, Y_norm_train, batch_size):\n",
    "        # X_batch (num_samples,num_feats)\n",
    "        Y_batch = Y_batch[:, np.newaxis]  # expand to (num_samples, 1)\n",
    "        \n",
    "        # forward pass\n",
    "        Y_hat = net(X_batch)  # Y_hat (num_samples,1)\n",
    "        \n",
    "        # gradients\n",
    "        grad_E_T_yk_batch = 2 * (Y_hat - Y_batch)  # grad_E_T_k (num_samples, num_feats)\n",
    "        \n",
    "        grad_E_T_b_batch = grad_E_T_yk_batch\n",
    "        grad_E_T_wk_batch = grad_E_T_yk_batch * X_batch\n",
    "        \n",
    "        this_batch_size = X_batch.shape[0]\n",
    "        grad_E_T_b_avg = np.sum(grad_E_T_b_batch, axis=0, keepdims=True).T / this_batch_size\n",
    "        # reduce to (1,num_feats) and flip back to shape of w\n",
    "        grad_E_T_wk_avg = np.sum(grad_E_T_wk_batch, axis=0, keepdims=True).T / this_batch_size\n",
    "        \n",
    "        # backwards pass\n",
    "        net.W -= lr * grad_E_T_wk_avg\n",
    "        net.b -= lr * grad_E_T_b_avg\n",
    "        \n",
    "        batch_ctr += 1\n",
    "    \n",
    "        if batch_ctr % update_every == 0:\n",
    "            error = total_error(net, X_norm_train, Y_train, y_var=Y_var, y_mean=Y_mean)\n",
    "            mean_error = error / X_train.shape[0]\n",
    "            print(f\"Mean training error (real) after {batch_ctr}th update:\", f\"${mean_error:.2f}k\")\n",
    "\n",
    "            error = total_error(net, X_norm_test, Y_test, y_var=Y_var, y_mean=Y_mean)\n",
    "            mean_error = error / X_test.shape[0]\n",
    "            print(f\"Mean testing error (real) after {batch_ctr}th update:\", f\"${mean_error:.2f}k\")\n",
    "\n",
    "            print()"
   ]
  },
  {
   "cell_type": "code",
   "execution_count": 18,
   "metadata": {},
   "outputs": [
    {
     "name": "stdout",
     "output_type": "stream",
     "text": [
      "For house 1, true price is $24.0K\n",
      "We estimated $12.549425458836106K\n",
      "\n",
      "For house 2, true price is $21.6K\n",
      "We estimated $19.54019003385459K\n",
      "\n",
      "For house 3, true price is $34.7K\n",
      "We estimated $20.54876642118027K\n",
      "\n",
      "For house 4, true price is $33.4K\n",
      "We estimated $13.352496722220797K\n",
      "\n",
      "For house 5, true price is $36.2K\n",
      "We estimated $7.57039492714031K\n",
      "\n",
      "For house 6, true price is $28.7K\n",
      "We estimated $5.801863018264328K\n",
      "\n",
      "For house 7, true price is $22.9K\n",
      "We estimated $7.991947394325848K\n",
      "\n",
      "For house 8, true price is $27.1K\n",
      "We estimated $21.906498498212308K\n",
      "\n",
      "For house 9, true price is $16.5K\n",
      "We estimated $15.417167230123763K\n",
      "\n",
      "For house 10, true price is $18.9K\n",
      "We estimated $23.211735139117447K\n",
      "\n"
     ]
    }
   ],
   "source": [
    "samples = range(10)\n",
    "y_hat_k = net.forward(X_norm_test[samples, :])\n",
    "y_unnormed_hat_k = np.sqrt(Y_var) * (y_hat_k) + Y_mean\n",
    "\n",
    "for k in samples:\n",
    "    print(f\"For house {k+1}, true price is ${Y[k]}K\")\n",
    "    print(f\"We estimated ${y_unnormed_hat_k[k][0]}K\")\n",
    "    print()"
   ]
  },
  {
   "cell_type": "markdown",
   "metadata": {},
   "source": [
    "The following visualization is helpful for looking at the performance on the whole dataset all at once.\n",
    "The axial line represents a perfect classifier: The predicted price always equals the true price.\n",
    "Any deviation off of that line is bad."
   ]
  },
  {
   "cell_type": "code",
   "execution_count": 19,
   "metadata": {},
   "outputs": [
    {
     "data": {
      "image/png": "[encoded data removed]",
      "text/plain": [
       "<Figure size 432x288 with 1 Axes>"
      ]
     },
     "metadata": {
      "needs_background": "light"
     },
     "output_type": "display_data"
    }
   ],
   "source": [
    "y_hat_k = net(X_norm_test)  # run the net on the whole dataset\n",
    "y_unnormed_hat_k = np.sqrt(Y_var) * (y_hat_k) + Y_mean\n",
    "\n",
    "# the following is code for producing the plot.\n",
    "import matplotlib.pyplot as plt\n",
    "plt.scatter(Y_test, y_unnormed_hat_k)\n",
    "plt.plot(np.linspace(0, 30), np.linspace(0, 30))\n",
    "plt.xlabel(\"True Price ($K)\")\n",
    "plt.ylabel(\"Predicted Price ($K)\")\n",
    "_ = plt.title(\"Test Set Performance\")"
   ]
  },
  {
   "cell_type": "markdown",
   "metadata": {},
   "source": [
    "## The Limits of Linear Models"
   ]
  },
  {
   "cell_type": "markdown",
   "metadata": {},
   "source": [
    "Unsurprisingly, linear models can only approximate linear functions.\n",
    "To give our neural network the ability to approximate nonlinear functions, we'll need to make its formula nonlinear somehow.\n",
    "\n",
    "And, more nonlinear than affine :)"
   ]
  },
  {
   "cell_type": "markdown",
   "metadata": {},
   "source": [
    "## Takeaways"
   ]
  },
  {
   "cell_type": "markdown",
   "metadata": {},
   "source": [
    "* Neural networks can be used to approximate functions.\n",
    "* Neural networks are **parametric**: They have parameters (weights and biases) that have to be optimized.\n",
    "* The key algorithm for optimizing the weights and biases is called gradient descent.\n",
    "* Gradient descent works by incrementally adjusting the parameters according to the rate of change of the error with respect to the parameter. This means:\n",
    "    * The network must be \"differentiable\": You have to be able to find the (partial) derivative of the network's prediction with respect to each parameter.\n",
    "    * The error function must be differentiable: You have to be able to find the (partial) derivative of the error with respect to the network's prediction.\n",
    "* Linear neural networks can only approximate linear functions!"
   ]
  },
  {
   "cell_type": "markdown",
   "metadata": {},
   "source": [
    "## Do On Your Owns"
   ]
  },
  {
   "cell_type": "markdown",
   "metadata": {},
   "source": [
    "Neural networks are cool, but if you're using a linear model, all this SGD stuff can become cumbersome. So can numpy (and even pytorch). Scikit-learn is great for doing data science at this level. Learn how to do this linear regression with scikit-learn:\n",
    "\n",
    "https://medium.com/@amitg0161/sklearn-linear-regression-tutorial-with-boston-house-dataset-cde74afd460a"
   ]
  },
  {
   "cell_type": "code",
   "execution_count": null,
   "metadata": {},
   "outputs": [],
   "source": []
  }
 ],
 "metadata": {
  "kernelspec": {
   "display_name": "Python 3",
   "language": "python",
   "name": "python3"
  },
  "language_info": {
   "codemirror_mode": {
    "name": "ipython",
    "version": 3
   },
   "file_extension": ".py",
   "mimetype": "text/x-python",
   "name": "python",
   "nbconvert_exporter": "python",
   "pygments_lexer": "ipython3",
   "version": "3.7.6"
  }
 },
 "nbformat": 4,
 "nbformat_minor": 4
}
