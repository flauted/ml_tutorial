{
 "cells": [
  {
   "cell_type": "markdown",
   "metadata": {},
   "source": [
    "# Neural Networks with PyTorch"
   ]
  },
  {
   "cell_type": "markdown",
   "metadata": {},
   "source": [
    "The goal of this notebook is to introduce the Multilayer Perceptron (the first so-called \"deep\" neural network) and nonlinear modeling. We'll quit doing all the gradients by hand. Instead, we'll use PyTorch.\n",
    "\n",
    "We'll introduce classification and we'll observe a problem that a linear model can't solve. We'll see that the Multilayer Perceptron makes short work of it. Then we'll apply our Multilayer Perceptron to the Boston House Dataset regression problem."
   ]
  },
  {
   "cell_type": "markdown",
   "metadata": {},
   "source": [
    "## Introducing: The Multilayer Perceptron!"
   ]
  },
  {
   "cell_type": "markdown",
   "metadata": {},
   "source": [
    "(Disclaimer: The transformation $T(x) = Ax+b$ is technically a nonlinear transformation. By certain definitions, it is an \"affine transformation.\" We're going to call it linear. If for no other reason, we're doing that because PyTorch uses the word \"linear\" for a transformation of that form. Historically, linear modeling (in the true sense) probably came first, and then people added bias to it and still called it linear. At least, that's standard in lots of developments.)"
   ]
  },
  {
   "cell_type": "markdown",
   "metadata": {},
   "source": [
    "Let's discuss the **multilayer perceptron** (MLP), a specific class of neural network that introduces nonlinearity."
   ]
  },
  {
   "cell_type": "markdown",
   "metadata": {},
   "source": [
    "The Multilayer perceptron is described as several **layers** of linear models, separated by a nonlinear **activation function.** Let's break that down."
   ]
  },
  {
   "cell_type": "markdown",
   "metadata": {},
   "source": [
    "Let's revisit our linear model and introduce some slightly suped-up notation.\n",
    "\n",
    "Also, we're going to drop the $\\vec{\\cdot}$ notation. It should be easy enough to tell what's a vector and what's a scalar.\n",
    "\n",
    "$$\\hat{y} = \\text{Net}(x) = \\text{Net}(x, \\theta)$$\n",
    "where $\\theta$ is a vector of all the parameters. By parameters, we mean individual weights $w_k$ and biases $b$.\n",
    "\n",
    "Hereafter, we use the term **parameters** interchangeably with **weights**. This doesn't mean we're excluding biases. It's just a standard term.\n",
    "\n",
    "We're going to hide the $\\theta$ usually, but sometimes it's convenient to see the dependence on the weights.\n",
    "\n",
    "\n",
    "So...\n",
    "$$\\text{Net}(x) = w_{0} x_{0} + w_1 x_1 + \\dots w_K x_K + b$$\n",
    "where $K$ is the number of features in $x$."
   ]
  },
  {
   "cell_type": "markdown",
   "metadata": {},
   "source": [
    "If we wanted to create a nonlinear model, one way would be by choosing a nonlinear function $f$ that maps real numbers to real numbers, and applying it to the output of the linear model. That is,\n",
    "$$ \\text{Net}_2(x) = f(w_0 x_0 + w_1 x_1 + \\cdots + w_K x_K + b).$$"
   ]
  },
  {
   "cell_type": "markdown",
   "metadata": {},
   "source": [
    "Then, to use gradient descent, finding the partial derivative of a weight with respect to the network output is as simple as applying the chain rule to \n",
    "$$f(\\text{the original network}) = f'(\\text{the original network}) \\times \\text{derivative of the original network}.$$"
   ]
  },
  {
   "cell_type": "markdown",
   "metadata": {},
   "source": [
    "However, from a statistical lens, that imposes harsh restrictions on the distribution of $\\hat{y}$. For example, if we chose a logistic (aka **sigmoid**) nonlinearity with range $[-1, 1]$, then our output distribution is bounded. That's undesiriable.\n",
    "\n",
    "In reality, what we're going to do is map $x$ into an $H$-dimensional **feature space** using a linear transformation. Recall that $x$ has $K$ features. We're going to map $x$ linearly to a vector that has $H$ dimensions as follows:\n",
    "$$\n",
    "    z_0 = w_{0,0} x_0 + w_{1,0} x_1 + \\cdots + x_{K,0} x_K + b_0 = \\vec{w}_0 \\cdot \\vec{x} + b_0,\n",
    "$$\n",
    "$$\n",
    "    z_1 = w_{0,1} x_0 + w_{1,1} x_1 + \\cdots + x_{K,1} x_K + b_1 = \\vec{w}_1 \\cdot \\vec{x} + b_1,\n",
    "$$\n",
    "$$\n",
    "    \\dots\n",
    "$$\n",
    "$$\n",
    "    z_H = w_{0,H} x_0 + w_{1,H} x_1 + \\cdots + x_{K,H} x_K + b_H = \\vec{w}_H \\cdot \\vec{x} + b_H.\n",
    "$$\n",
    "In other words, we're mapping each of the $H$ derived features linearly.\n",
    "In short,\n",
    "$$ z = x W + b$$\n",
    "where $z$ is an $H$-dimensional vector, $x$ is a $K$-dimensional vector, $W$ is a $(K,H)$-shaped matrix, and $b$ is an $H$-dimensional vector.\n",
    "\n",
    "Note that we can express a linear network as a transformation where $H=1$.\n",
    "\n",
    "Then, we're going to apply our activation function to each element of $z$ independently, aka **pointwise**.\n",
    "\n",
    "Then, we'll apply a linear network where $H$ is the output dimension (for the Boston house dataset, that's $H=1$. But, for other problems where we want to predict multiple related functions, $H$ may be some other natural number).\n",
    "\n",
    "So,\n",
    "$$ \\text{Net}(x) = [ f^{(0)} ( x W^{(0)} + b^{(0)} )] W^{(1)} + b^{(1)}.$$\n",
    "where the superscript is the layer index."
   ]
  },
  {
   "cell_type": "markdown",
   "metadata": {},
   "source": [
    "## Universal Approximation Theorem"
   ]
  },
  {
   "cell_type": "markdown",
   "metadata": {},
   "source": [
    "It turns out that with some modest restrictions the activation function $f^{(0)}$, we can prove that $\\text{Net}(x)$ with one layer and an arbitrarily large $H$ could in theory approximate (almost) any function arbitrarily well. That's the \"Universal Approximation Theorem.\"\n",
    "\n",
    "You owe it to yourself to read the full mathy version (see the Unbounded width case): https://en.wikipedia.org/wiki/Universal_approximation_theorem (2 min)\n",
    "\n",
    "The restrictions as presented are: The activation function is (1) nonconstant, (2) bounded (turns out that doesn't always matter), and (3) continuous. You'll never be able to make a nonconstant and bounded linear function, so \"nonlinear\" is a pretty good analog. And, the function you want to approximate is continuous and defined on a bounded domain (meaning, you can't extrapolate infinitely). Then, there exist weights such that your neural network is an arbitrarily good approximation of that function.\n",
    "\n",
    "The catch is, it doesn't tell us how large of an $H$ and it doesn't tell us that gradient descent could ever find the right weights.\n",
    "\n",
    "More info, if you're so inclined: https://towardsdatascience.com/can-neural-networks-really-learn-any-function-65e106617fc6 (15 min)"
   ]
  },
  {
   "cell_type": "markdown",
   "metadata": {},
   "source": [
    "## XOR With PyTorch"
   ]
  },
  {
   "cell_type": "markdown",
   "metadata": {},
   "source": [
    "As a simple example of the Universal Approximation Theorem at work, and of how **classification** (instead of regression) works, let's look at approximating the Exclusive-OR (XOR) function. \"One or the other, but not both.\"\n",
    "\n",
    "This is going to be very theoretical. We're not interested in generalization or data-science-y stuff. We just want to see if a linear model can learn to approximate the XOR function and if our new suped-up network can."
   ]
  },
  {
   "cell_type": "markdown",
   "metadata": {},
   "source": [
    "PyTorch is a production-quality software package that lets us build neural networks without caring about the calculus (yay!).\n",
    "\n",
    "Required reading:\n",
    "1. \"What is PyTorch?\" (10 min)\n",
    "    1. https://pytorch.org/tutorials/beginner/blitz/tensor_tutorial.html#sphx-glr-beginner-blitz-tensor-tutorial-py\n",
    "2. \"Learning PyTorch with Examples\" section \"PyTorch: Tensors and autograd\" (~5 min) (don't go into \"Defining new autograd functions)\n",
    "    1. https://pytorch.org/tutorials/beginner/pytorch_with_examples.html#pytorch-tensors-and-autograd\n",
    "3. \"Learning PyTorch with Examples\" sections under \"nn module\" (~10 min), meaning \"PyTorch: nn\" thru and including \"PyTorch: Control Flow + Weight Sharing\"\n",
    "    1. https://pytorch.org/tutorials/beginner/pytorch_with_examples.html#nn-module"
   ]
  },
  {
   "cell_type": "code",
   "execution_count": 1,
   "metadata": {},
   "outputs": [],
   "source": [
    "import torch\n",
    "import torch.nn as nn"
   ]
  },
  {
   "cell_type": "code",
   "execution_count": 2,
   "metadata": {},
   "outputs": [],
   "source": [
    "# This is a custom Module that basically just wraps PyTorch's included nn.Linear module\n",
    "\n",
    "class LinearNetwork(nn.Module):\n",
    "    # note we're inheriting from nn.Module - this is important in PyTorch.\n",
    "    # Everything you want gradient descent to optimize should (usually) be wrapped\n",
    "    # in a class that inherits from nn.Module\n",
    "    def __init__(self, num_features, num_outputs):\n",
    "        super(LinearNetwork, self).__init__()  # initializing the superclass is very important!\n",
    "        \n",
    "        # randomly initialize the W and b of the Wx+b transform\n",
    "        self.layer0 = nn.Linear(num_features, num_outputs, bias=True)\n",
    "        \n",
    "    def forward(self, x):\n",
    "        # in PyTorch, the ``__call__`` method wraps the ``forward`` method automatically.\n",
    "        # I.e., you have to write a ``forward`` method.\n",
    "        return self.layer0(x)  # apply the Wx+b transform to x"
   ]
  },
  {
   "cell_type": "markdown",
   "metadata": {},
   "source": [
    "For the nonlinear function $f$, we're going to use the **rectified linear unit (ReLU)**. This is the half-wave rectification function you might recall from EE classes. If you aren't familiar, it's the function\n",
    "$$ \\text{ReLU}(x) = \\max(0, x). $$"
   ]
  },
  {
   "cell_type": "code",
   "execution_count": 3,
   "metadata": {},
   "outputs": [
    {
     "data": {
      "image/png": "[encoded data removed]",
      "text/plain": [
       "<Figure size 432x288 with 1 Axes>"
      ]
     },
     "metadata": {
      "needs_background": "light"
     },
     "output_type": "display_data"
    }
   ],
   "source": [
    "# this is just plotting code, you can skip it\n",
    "import matplotlib.pyplot as plt\n",
    "import numpy as np\n",
    "x = np.linspace(-5, 5)\n",
    "relu = np.maximum(0, x)\n",
    "plt.plot(x, relu)\n",
    "plt.title(\"ReLU(x)\")\n",
    "plt.ylabel(\"Activation\")\n",
    "_ = plt.xlabel(\"x\")"
   ]
  },
  {
   "cell_type": "markdown",
   "metadata": {},
   "source": [
    "Note that teeeeechnically $\\text{ReLU}$ isn't differentiable at $x=0$. That's problematic for finding the partial derivatives of the network output with respect to the parameters in the $0$th layer. In practice, the derivative at $0$ is simply set to $0$ or $1$."
   ]
  },
  {
   "cell_type": "markdown",
   "metadata": {},
   "source": [
    "On the other hand, since the derivative of $\\text{ReLU}$ is always $1$ or $0$, either...\n",
    "* The derivative of error with respect to 0th layer parameters only get scaled by a factor of $1$ (avoids the vanishing/exploding gradient problem)\n",
    "* The derivative of error with respect to 0th layer parameters get killed (dying ReLU problem)\n"
   ]
  },
  {
   "cell_type": "code",
   "execution_count": 4,
   "metadata": {},
   "outputs": [],
   "source": [
    "# Now we're going to make a basic 2-layer Multilayer Perceptron custom Module.\n",
    "class MLP(nn.Module):\n",
    "    def __init__(self, num_features, hidden_dimension, num_outputs):\n",
    "        super(MLP, self).__init__()\n",
    "        # randomly initialize the W^0 and b^0 of the first linear transform\n",
    "        self.layer0 = nn.Linear(num_features, hidden_dimension, bias=True)\n",
    "        # choose which pointwise activation function you want\n",
    "        self.f = nn.ReLU()  # ReLU(x_i) := max(0, x_i)\n",
    "        self.layer1 = nn.Linear(hidden_dimension, num_outputs, bias=True)\n",
    "        \n",
    "    def forward(self, x):\n",
    "        return self.layer1(self.f(self.layer0(x)))"
   ]
  },
  {
   "cell_type": "code",
   "execution_count": 5,
   "metadata": {},
   "outputs": [],
   "source": [
    "# note we're not gonna bother normalizing X for this example since we have biases.\n",
    "# this will make learning slower technically, but it's fine.\n",
    "X = np.array(\n",
    "    [[0, 0],\n",
    "     [0, 1],\n",
    "     [1, 0],\n",
    "     [1, 1]\n",
    "    ]\n",
    ")\n",
    "Y = np.array([0, 1, 1, 0])"
   ]
  },
  {
   "cell_type": "code",
   "execution_count": 6,
   "metadata": {},
   "outputs": [
    {
     "data": {
      "text/plain": [
       "(4, 2)"
      ]
     },
     "execution_count": 6,
     "metadata": {},
     "output_type": "execute_result"
    }
   ],
   "source": [
    "X.shape"
   ]
  },
  {
   "cell_type": "code",
   "execution_count": 7,
   "metadata": {},
   "outputs": [
    {
     "data": {
      "text/plain": [
       "(4,)"
      ]
     },
     "execution_count": 7,
     "metadata": {},
     "output_type": "execute_result"
    }
   ],
   "source": [
    "Y.shape"
   ]
  },
  {
   "cell_type": "markdown",
   "metadata": {},
   "source": [
    "### Example 1 - Can Linear Approximate XOR?"
   ]
  },
  {
   "cell_type": "markdown",
   "metadata": {},
   "source": [
    "First, we need to discuss how to do classification instead of regression.\n",
    "This gets a little strange, so bear with me.\n",
    "We're going to have the network output one number for a \"True\" and another number for a \"False.\" That is, now we're outputting two numbers.\n",
    "Then, we're going to normalize the output so that it sums to $1$ (i.e., it can be treated as a discrete pdf).\n",
    "\n",
    "That normalization is performed with what's called the **softmax** function. We won't go into detail, but it's important to know that softmax is order-preserving. The $k$th highest element in the original network output is still the $k$th highest normalized element.\n",
    "\n",
    "Our loss function becomes minimizing the \"distance\" between the output pdf and the true pdf (which is just a $1$ for the true class and $0$ for the others).\n",
    "The loss function we want to minimize is called the **cross entropy loss**.\n",
    "We won't go into details about how that works, but note that we're establishing all this formalism because it generalizes to when there's more classes than 2 (e.g., when we're interested about more than \"True\" and \"False.\").\n",
    "\n",
    "In the PyTorch library, the cross entropy loss function actually wraps up softmax and the pdf distance function into one thing."
   ]
  },
  {
   "cell_type": "code",
   "execution_count": 8,
   "metadata": {},
   "outputs": [],
   "source": [
    "def train_xor(net, num_epochs=1000, lr=0.1):\n",
    "    loss_fn = nn.CrossEntropyLoss()  # instantiate a cross entropy loss function - this guy is callable.\n",
    "    # you can read about its parameters in the PyTorch documentation:\n",
    "    # https://pytorch.org/docs/stable/nn.html#crossentropyloss\n",
    "\n",
    "    optim = torch.optim.SGD(net.parameters(), lr=lr)  # this is Stochastic Gradient Descent\n",
    "\n",
    "    for epoch in range(1, num_epochs + 1):\n",
    "        optim.zero_grad()  # set gradient accumulators to 0\n",
    "        # we'll batch up the whole dataset again since our dataset has 4 examples\n",
    "        x_batch = torch.tensor(X, dtype=torch.float32)\n",
    "        y_batch = torch.tensor(Y, dtype=torch.int64)\n",
    "\n",
    "        y_hat_batch = net(x_batch)\n",
    "\n",
    "        loss = loss_fn(y_hat_batch, y_batch)\n",
    "        loss.backward()  # calculate the partials of \"loss\" with respect to each of the parameters\n",
    "        optim.step()  # update the network's parameters with respect to each of the partials."
   ]
  },
  {
   "cell_type": "code",
   "execution_count": 9,
   "metadata": {},
   "outputs": [
    {
     "name": "stdout",
     "output_type": "stream",
     "text": [
      "LinearNetwork(\n",
      "  (layer0): Linear(in_features=2, out_features=2, bias=True)\n",
      ")\n"
     ]
    }
   ],
   "source": [
    "net1 = LinearNetwork(2, 2)  # instantiate a linear network from the 2 inputs to the two outputs (True and False)\n",
    "print(net1)\n",
    "train_xor(net1)"
   ]
  },
  {
   "cell_type": "code",
   "execution_count": 10,
   "metadata": {},
   "outputs": [],
   "source": [
    "# now let's run in inference mode, without any derivatives\n",
    "with torch.no_grad():\n",
    "    y_hat = net1(torch.tensor(X, dtype=torch.float32))\n",
    "    predictions = y_hat.argmax(axis=1)"
   ]
  },
  {
   "cell_type": "code",
   "execution_count": 11,
   "metadata": {},
   "outputs": [
    {
     "name": "stdout",
     "output_type": "stream",
     "text": [
      "   Truth Table     \n",
      "\n",
      "x1 x2 | true | pred\n",
      "-------------------\n",
      " 0  0 |    0 |    0\n",
      " 0  1 |    1 |    0\n",
      " 1  0 |    1 |    0\n",
      " 1  1 |    0 |    1\n"
     ]
    }
   ],
   "source": [
    "print(\"   Truth Table     \")\n",
    "print()\n",
    "print(\"x1 x2 | true | pred\")\n",
    "print(\"-------------------\")\n",
    "for (x, y), pred in zip(zip(X, Y), predictions):\n",
    "    print(\" {x1}  {x2} |    {true} |    {pred}\".format(x1=x[0], x2=x[1], true=y, pred=pred))"
   ]
  },
  {
   "cell_type": "markdown",
   "metadata": {},
   "source": [
    "You can tell from the truth table that the linear model couldn't learn XOR.\n",
    "\n",
    "This isn't a rigorous proof that it will never happen. You could try different weights, train longer, etc. Just giving an example."
   ]
  },
  {
   "cell_type": "markdown",
   "metadata": {},
   "source": [
    "### Example 2 - Can MLP Approximate XOR?"
   ]
  },
  {
   "cell_type": "code",
   "execution_count": 12,
   "metadata": {},
   "outputs": [
    {
     "name": "stdout",
     "output_type": "stream",
     "text": [
      "MLP(\n",
      "  (layer0): Linear(in_features=2, out_features=1000, bias=True)\n",
      "  (f): ReLU()\n",
      "  (layer1): Linear(in_features=1000, out_features=2, bias=True)\n",
      ")\n",
      "   Truth Table     \n",
      "\n",
      "x1 x2 | true | pred\n",
      "-------------------\n",
      " 0  0 |    0 |    0\n",
      " 0  1 |    1 |    1\n",
      " 1  0 |    1 |    1\n",
      " 1  1 |    0 |    0\n"
     ]
    }
   ],
   "source": [
    "net2 = MLP(2, 1000, 2)  # instantiate an MLP with hidden size H=1000\n",
    "print(net2)\n",
    "train_xor(net2, num_epochs=1000)\n",
    "# now let's run in inference mode, without any derivatives\n",
    "\n",
    "with torch.no_grad():\n",
    "    y_hat = net2(torch.tensor(X, dtype=torch.float32))\n",
    "    predictions = y_hat.argmax(axis=1)\n",
    "print(\"   Truth Table     \")\n",
    "print()\n",
    "print(\"x1 x2 | true | pred\")\n",
    "print(\"-------------------\")\n",
    "for (x, y), pred in zip(zip(X, Y), predictions):\n",
    "    print(\" {x1}  {x2} |    {true} |    {pred}\".format(x1=x[0], x2=x[1], true=y, pred=pred))"
   ]
  },
  {
   "cell_type": "markdown",
   "metadata": {},
   "source": [
    "The MLP on the other hand made short work of XOR."
   ]
  },
  {
   "cell_type": "markdown",
   "metadata": {},
   "source": [
    "## Apply the MLP to the Boston House Dataset"
   ]
  },
  {
   "cell_type": "code",
   "execution_count": 13,
   "metadata": {},
   "outputs": [],
   "source": [
    "from sklearn.datasets import load_boston\n",
    "dataset = load_boston()\n",
    "\n",
    "data = dataset[\"data\"]  # np.ndarray  shape: (examples, features)\n",
    "target = dataset[\"target\"]  # np.ndarray  shape: (examples,)\n",
    "\n",
    "X = data  # X matrix is all the data\n",
    "Y = target  # Y matrix is all the truth"
   ]
  },
  {
   "cell_type": "code",
   "execution_count": 14,
   "metadata": {},
   "outputs": [
    {
     "name": "stdout",
     "output_type": "stream",
     "text": [
      "Check minimum variance is far from 0: 0.012945226004437496\n",
      "Check minimum variance is far from 0: 83.80700974999999\n"
     ]
    }
   ],
   "source": [
    "import random\n",
    "random.seed(4242)\n",
    "\n",
    "data_index_array = list(range(X.shape[0]))\n",
    "random.shuffle(data_index_array)\n",
    "X_shuf = X[data_index_array]\n",
    "Y_shuf = Y[data_index_array]\n",
    "\n",
    "X_train = X[:400]  # normally you use about 80% for training and 20% for testing\n",
    "Y_train = Y[:400]\n",
    "\n",
    "X_test = X[400:]\n",
    "Y_test = Y[400:]\n",
    "\n",
    "\n",
    "def zero_mean_unit_variance(D):\n",
    "    # D is a data matrix shaped (N_feats, ...)\n",
    "    feat_means = np.mean(D, axis=0)  # (N_feats,)-shaped vector\n",
    "    feat_vars = np.var(D, axis=0)  # (N_feats,)-shaped vector\n",
    "\n",
    "    # variance of 0 means an uninformative/constant feature.\n",
    "    # numerically, it's a problem b/c we can't divide by zero\n",
    "    try:\n",
    "        print(\"Check minimum variance is far from 0:\", min(feat_vars))\n",
    "    except Exception as e:\n",
    "        print(\"Check minimum variance is far from 0:\", feat_vars)\n",
    "\n",
    "\n",
    "    D_normed = (D - feat_means) / np.sqrt(feat_vars)\n",
    "    return D_normed, feat_means, feat_vars\n",
    "\n",
    "\n",
    "X_norm_train, X_mean, X_var = zero_mean_unit_variance(X_train)\n",
    "X_norm_test = (X_test - X_mean) / np.sqrt(X_var)\n",
    "Y_norm_train, Y_mean, Y_var = zero_mean_unit_variance(Y_train)\n",
    "\n"
   ]
  },
  {
   "cell_type": "code",
   "execution_count": 15,
   "metadata": {},
   "outputs": [
    {
     "name": "stdout",
     "output_type": "stream",
     "text": [
      "Mean training error (real) after 500th update: $32.85k\n",
      "Mean testing error (real) after 500th update: $19.89k\n",
      "\n",
      "Mean training error (real) after 1000th update: $19.39k\n",
      "Mean testing error (real) after 1000th update: $20.80k\n",
      "\n",
      "Mean training error (real) after 1500th update: $14.61k\n",
      "Mean testing error (real) after 1500th update: $22.70k\n",
      "\n",
      "Mean training error (real) after 2000th update: $11.68k\n",
      "Mean testing error (real) after 2000th update: $23.80k\n",
      "\n",
      "Mean training error (real) after 2500th update: $9.61k\n",
      "Mean testing error (real) after 2500th update: $24.93k\n",
      "\n",
      "Mean training error (real) after 3000th update: $8.15k\n",
      "Mean testing error (real) after 3000th update: $26.12k\n",
      "\n",
      "Mean training error (real) after 3500th update: $7.04k\n",
      "Mean testing error (real) after 3500th update: $27.77k\n",
      "\n",
      "Mean training error (real) after 4000th update: $6.20k\n",
      "Mean testing error (real) after 4000th update: $30.33k\n",
      "\n"
     ]
    }
   ],
   "source": [
    "net = MLP(13, 100, 1)\n",
    "\n",
    "lr = .0001  # learning rate eta  - since we're updating per batch, we'll want to lower this.\n",
    "# that's because each update could be somehow more biased or overall less complete\n",
    "\n",
    "def batchify(X, Y, n):\n",
    "    for i in range(0, len(X), n):\n",
    "        yield X[i:i + n], Y[i:i+n]\n",
    "\n",
    "def total_error(net, X, Y, batch_size, y_var=None, y_mean=None):\n",
    "    with torch.no_grad():\n",
    "        error_T = 0\n",
    "        for X_batch, Y_batch in batchify(X, Y, batch_size):\n",
    "            X_batch = torch.tensor(X_batch, dtype=torch.float32)\n",
    "            Y_batch = torch.tensor(Y_batch, dtype=torch.float32).unsqueeze(-1)\n",
    "            Y_hat = net(X_batch)  # (num_samples, 1)\n",
    "            if y_var is not None:\n",
    "                Y_hat = Y_hat * np.sqrt(y_var) + y_mean\n",
    "            error = (Y_hat - Y_batch)**2  # (num_samples, 1)\n",
    "            error_t = error.sum()\n",
    "            error_T += error_t\n",
    "        return error_T\n",
    "\n",
    "    \n",
    "def train_boston(net, lr, batch_size=100, update_every=500, N_epochs=1000):\n",
    "    batch_ctr = 0\n",
    "\n",
    "    loss_fn = nn.MSELoss()  # instantiate a mean-squared-error loss function\n",
    "    optim = torch.optim.Adam(net.parameters(), lr=lr)  # this is a modified stochastic gradient descent\n",
    "\n",
    "    for epoch in range(1, N_epochs+1):\n",
    "        # N = X_norm_train.shape[0]  # dataset size\n",
    "        for x_batch, y_batch in batchify(X_norm_train, Y_norm_train, batch_size):\n",
    "            net.train()\n",
    "            optim.zero_grad()  # set gradient accumulators to 0\n",
    "\n",
    "            # X_batch (num_samples,num_feats)\n",
    "            y_batch = torch.tensor(y_batch, dtype=torch.float32).unsqueeze(-1)  # expand to (num_examples, 1)\n",
    "            x_batch = torch.tensor(x_batch, dtype=torch.float32)\n",
    "\n",
    "            y_hat_batch = net(x_batch)\n",
    "            # print(y_hat_batch)\n",
    "            loss = loss_fn(y_hat_batch, y_batch)\n",
    "            loss.backward()  # calculate the partials of \"loss\" with respect to each of the parameters\n",
    "            optim.step()  # update the network's parameters with respect to each of the partials.\n",
    "            batch_ctr += 1\n",
    "\n",
    "            if batch_ctr % update_every == 0:\n",
    "                with torch.no_grad():\n",
    "                    net.eval()\n",
    "                    error = total_error(net, X_norm_train, Y_train, batch_size, y_var=Y_var, y_mean=Y_mean)\n",
    "                    mean_error = error / X_train.shape[0]\n",
    "                    print(f\"Mean training error (real) after {batch_ctr}th update:\", f\"${mean_error:.2f}k\")\n",
    "\n",
    "                    error = total_error(net, X_norm_test, Y_test, batch_size, y_var=Y_var, y_mean=Y_mean)\n",
    "                    mean_error = error / X_test.shape[0]\n",
    "                    print(f\"Mean testing error (real) after {batch_ctr}th update:\", f\"${mean_error:.2f}k\")\n",
    "\n",
    "                    print()\n",
    "                \n",
    "train_boston(net, lr)"
   ]
  },
  {
   "cell_type": "code",
   "execution_count": 16,
   "metadata": {},
   "outputs": [
    {
     "name": "stdout",
     "output_type": "stream",
     "text": [
      "For house 1, true price is $24.0K\n",
      "We estimated $7.615077972412109K\n",
      "\n",
      "For house 2, true price is $21.6K\n",
      "We estimated $11.650252342224121K\n",
      "\n",
      "For house 3, true price is $34.7K\n",
      "We estimated $12.943846702575684K\n",
      "\n",
      "For house 4, true price is $33.4K\n",
      "We estimated $14.254494667053223K\n",
      "\n",
      "For house 5, true price is $36.2K\n",
      "We estimated $8.309564590454102K\n",
      "\n",
      "For house 6, true price is $28.7K\n",
      "We estimated $4.980039596557617K\n",
      "\n",
      "For house 7, true price is $22.9K\n",
      "We estimated $17.580551147460938K\n",
      "\n",
      "For house 8, true price is $27.1K\n",
      "We estimated $28.847810745239258K\n",
      "\n",
      "For house 9, true price is $16.5K\n",
      "We estimated $15.970133781433105K\n",
      "\n",
      "For house 10, true price is $18.9K\n",
      "We estimated $23.313526153564453K\n",
      "\n"
     ]
    }
   ],
   "source": [
    "samples = range(10)\n",
    "y_hat_k = net(torch.tensor(X_norm_test[samples, :], dtype=torch.float32))\n",
    "y_unnormed_hat_k = np.sqrt(Y_var) * (y_hat_k) + Y_mean\n",
    "\n",
    "for k in samples:\n",
    "    print(f\"For house {k+1}, true price is ${Y[k]}K\")\n",
    "    print(f\"We estimated ${y_unnormed_hat_k[k][0]}K\")\n",
    "    print()"
   ]
  },
  {
   "cell_type": "code",
   "execution_count": 17,
   "metadata": {},
   "outputs": [
    {
     "data": {
      "image/png": "[encoded data removed]",
      "text/plain": [
       "<Figure size 432x288 with 1 Axes>"
      ]
     },
     "metadata": {
      "needs_background": "light"
     },
     "output_type": "display_data"
    }
   ],
   "source": [
    "with torch.no_grad():\n",
    "    y_hat_k = net(torch.tensor(X_norm_test, dtype=torch.float32)).numpy()\n",
    "y_unnormed_hat_k = np.sqrt(Y_var) * (y_hat_k) + Y_mean\n",
    "\n",
    "import matplotlib.pyplot as plt\n",
    "plt.scatter(Y_test, y_unnormed_hat_k)\n",
    "plt.plot(np.linspace(0, 30), np.linspace(0, 30))\n",
    "plt.xlabel(\"True Price ($K)\")\n",
    "plt.ylabel(\"Predicted Price ($K)\")\n",
    "_ = plt.title(\"Test Set Performance\")"
   ]
  },
  {
   "cell_type": "markdown",
   "metadata": {},
   "source": [
    "## How Can We Improve Now? - Overfitting and Going Deeper"
   ]
  },
  {
   "cell_type": "markdown",
   "metadata": {},
   "source": [
    "**Overfitting** happens when the neural network fails to **generalize** to the test set because it's \"memorized\" non-useful things in the training set in order to minimize the error.\n",
    "\n",
    "We can avoid that with what's called **regularization techniques**. The most famous one is called dropout. Dropout randomly sets some percentage of the activations coming out of a layer to 0. To minimize error when using dropout, the network cannot rely on any single feature in making its determinations. Experimentally, this reduces overfitting."
   ]
  },
  {
   "cell_type": "code",
   "execution_count": 18,
   "metadata": {},
   "outputs": [],
   "source": [
    "class DeepMLP(nn.Module):\n",
    "    def __init__(self, num_features, hidden_dimensions, num_outputs, dp_prob=0.5):\n",
    "        super(DeepMLP, self).__init__()\n",
    "        map_sizes = [num_features] + hidden_dimensions\n",
    "        architecture = []\n",
    "        for map_dim_in, map_dim_out in zip(map_sizes[:-1], map_sizes[1:]):\n",
    "            architecture.extend([\n",
    "                nn.Linear(map_dim_in, map_dim_out, bias=True),\n",
    "                nn.ReLU(),\n",
    "                nn.Dropout(dp_prob)\n",
    "            ])\n",
    "        architecture.append(nn.Linear(hidden_dimensions[-1], num_outputs, bias=True))\n",
    "        self._net = nn.Sequential(*architecture)\n",
    "        \n",
    "    def forward(self, x):\n",
    "        return self._net(x)"
   ]
  },
  {
   "cell_type": "code",
   "execution_count": 19,
   "metadata": {},
   "outputs": [
    {
     "name": "stdout",
     "output_type": "stream",
     "text": [
      "Mean training error (real) after 50th update: $79.77k\n",
      "Mean testing error (real) after 50th update: $91.86k\n",
      "\n",
      "Mean training error (real) after 100th update: $71.95k\n",
      "Mean testing error (real) after 100th update: $83.09k\n",
      "\n",
      "Mean training error (real) after 150th update: $61.22k\n",
      "Mean testing error (real) after 150th update: $67.73k\n",
      "\n",
      "Mean training error (real) after 200th update: $48.95k\n",
      "Mean testing error (real) after 200th update: $47.05k\n",
      "\n",
      "Mean training error (real) after 250th update: $37.24k\n",
      "Mean testing error (real) after 250th update: $28.11k\n",
      "\n",
      "Mean training error (real) after 300th update: $28.99k\n",
      "Mean testing error (real) after 300th update: $18.67k\n",
      "\n",
      "Mean training error (real) after 350th update: $24.42k\n",
      "Mean testing error (real) after 350th update: $15.71k\n",
      "\n",
      "Mean training error (real) after 400th update: $21.88k\n",
      "Mean testing error (real) after 400th update: $14.65k\n",
      "\n",
      "Mean training error (real) after 450th update: $20.25k\n",
      "Mean testing error (real) after 450th update: $14.38k\n",
      "\n",
      "Mean training error (real) after 500th update: $19.06k\n",
      "Mean testing error (real) after 500th update: $13.68k\n",
      "\n",
      "Mean training error (real) after 550th update: $17.78k\n",
      "Mean testing error (real) after 550th update: $14.15k\n",
      "\n",
      "Mean training error (real) after 600th update: $16.82k\n",
      "Mean testing error (real) after 600th update: $14.33k\n",
      "\n",
      "Mean training error (real) after 650th update: $16.08k\n",
      "Mean testing error (real) after 650th update: $14.22k\n",
      "\n",
      "Mean training error (real) after 700th update: $15.39k\n",
      "Mean testing error (real) after 700th update: $14.18k\n",
      "\n",
      "Mean training error (real) after 750th update: $14.81k\n",
      "Mean testing error (real) after 750th update: $14.00k\n",
      "\n",
      "Mean training error (real) after 800th update: $14.41k\n",
      "Mean testing error (real) after 800th update: $13.79k\n",
      "\n",
      "Mean training error (real) after 850th update: $13.87k\n",
      "Mean testing error (real) after 850th update: $14.12k\n",
      "\n",
      "Mean training error (real) after 900th update: $13.41k\n",
      "Mean testing error (real) after 900th update: $13.52k\n",
      "\n",
      "Mean training error (real) after 950th update: $13.03k\n",
      "Mean testing error (real) after 950th update: $13.70k\n",
      "\n",
      "Mean training error (real) after 1000th update: $12.57k\n",
      "Mean testing error (real) after 1000th update: $12.74k\n",
      "\n"
     ]
    }
   ],
   "source": [
    "net = DeepMLP(13, [50, 50, 50], 1, dp_prob=0.3)\n",
    "lr = 1e-4\n",
    "train_boston(net, lr, batch_size=200, update_every=50, N_epochs=500)\n"
   ]
  },
  {
   "cell_type": "code",
   "execution_count": 20,
   "metadata": {},
   "outputs": [
    {
     "data": {
      "image/png": "[encoded data removed]",
      "text/plain": [
       "<Figure size 432x288 with 1 Axes>"
      ]
     },
     "metadata": {
      "needs_background": "light"
     },
     "output_type": "display_data"
    }
   ],
   "source": [
    "with torch.no_grad():\n",
    "    net.eval()\n",
    "    y_hat_k = net(torch.tensor(X_norm_test, dtype=torch.float32)).numpy()\n",
    "y_unnormed_hat_k = np.sqrt(Y_var) * (y_hat_k) + Y_mean\n",
    "\n",
    "plt.scatter(Y_test, y_unnormed_hat_k)\n",
    "plt.plot(np.linspace(0, 30), np.linspace(0, 30))\n",
    "plt.xlabel(\"True Price ($K)\")\n",
    "plt.ylabel(\"Predicted Price ($K)\")\n",
    "_ = plt.title(\"Test Set Performance\")"
   ]
  },
  {
   "cell_type": "markdown",
   "metadata": {},
   "source": [
    "## Takeaways"
   ]
  },
  {
   "cell_type": "markdown",
   "metadata": {},
   "source": [
    "* Now you know how to formulate a multi-layer perceptron.\n",
    "* You know that, to use gradient descent, you need the nonlinear activation function to be differentiable (almost everywhere).\n",
    "    * The general term for using gradient descent in multiple-layer networks is called **backpropagation** (of errors) because the gradients of each layer end up being a factor in the gradients of the layer before.\n",
    "* An MLP can theoretically approximate (almost) any function, but the theory doesn't guarantee we can find the weights.\n",
    "* You saw the very popular nonlinear activation function $\\text{ReLU} = \\max(0, x)$ and know that it's popular because it doesn't scale the gradients (meaning, it doesn't scale the weight update) when it's active.\n",
    "* You learned about overfitting and know that dropout is a technique for avoiding it."
   ]
  },
  {
   "cell_type": "code",
   "execution_count": null,
   "metadata": {},
   "outputs": [],
   "source": []
  }
 ],
 "metadata": {
  "kernelspec": {
   "display_name": "Python 3",
   "language": "python",
   "name": "python3"
  },
  "language_info": {
   "codemirror_mode": {
    "name": "ipython",
    "version": 3
   },
   "file_extension": ".py",
   "mimetype": "text/x-python",
   "name": "python",
   "nbconvert_exporter": "python",
   "pygments_lexer": "ipython3",
   "version": "3.7.6"
  }
 },
 "nbformat": 4,
 "nbformat_minor": 4
}
